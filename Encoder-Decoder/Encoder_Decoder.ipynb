{
  "nbformat": 4,
  "nbformat_minor": 0,
  "metadata": {
    "colab": {
      "provenance": []
    },
    "kernelspec": {
      "name": "python3",
      "display_name": "Python 3"
    },
    "language_info": {
      "name": "python"
    }
  },
  "cells": [
    {
      "cell_type": "code",
      "execution_count": null,
      "metadata": {
        "id": "bdhvMRYlhooB"
      },
      "outputs": [],
      "source": [
        "import torch\n",
        "import torch.nn as nn\n",
        "import torch.optim as optim\n",
        "import torch.nn.functional as F\n",
        "from torchvision import datasets, transforms\n",
        "from torch.utils.data import DataLoader\n",
        "from skimage.metrics import structural_similarity as ssim\n",
        "import numpy as np\n",
        "import matplotlib.pyplot as plt"
      ]
    },
    {
      "cell_type": "code",
      "source": [
        "class Encoder(nn.Module):\n",
        "    def __init__(self):\n",
        "        super(Encoder, self).__init__()\n",
        "        self.encoder = nn.Sequential(\n",
        "            nn.Linear(28 * 28, 128),\n",
        "            nn.ReLU(),\n",
        "            nn.Linear(128, 64),\n",
        "            nn.ReLU(),\n",
        "            nn.Linear(64, 36),\n",
        "            nn.ReLU(),\n",
        "        )\n",
        "\n",
        "    def forward(self, x):\n",
        "        encoded = self.encoder(x)\n",
        "        return encoded"
      ],
      "metadata": {
        "id": "dgvHLmFNcqE2"
      },
      "execution_count": null,
      "outputs": []
    },
    {
      "cell_type": "code",
      "source": [
        "class Decoder(nn.Module):\n",
        "    def __init__(self):\n",
        "        super(Decoder, self).__init__()\n",
        "        self.decoder = nn.Sequential(\n",
        "            nn.Linear(36, 64),\n",
        "            nn.ReLU(),\n",
        "            nn.Linear(64, 128),\n",
        "            nn.ReLU(),\n",
        "            nn.Linear(128, 28 * 28),\n",
        "            nn.Sigmoid()\n",
        "        )\n",
        "\n",
        "    def forward(self, x):\n",
        "        decoded = self.decoder(x)\n",
        "        return decoded\n"
      ],
      "metadata": {
        "id": "KU8pI5nOcqPH"
      },
      "execution_count": null,
      "outputs": []
    },
    {
      "cell_type": "code",
      "source": [
        "class Encoder_bottleneck(nn.Module):\n",
        "    def __init__(self, bottleneck_dim):\n",
        "        super(Encoder_bottleneck, self).__init__()\n",
        "        self.encoder = nn.Sequential(\n",
        "            nn.Linear(28 * 28, 128),\n",
        "            nn.ReLU(),\n",
        "            nn.Linear(128, 64),\n",
        "            nn.ReLU(),\n",
        "            nn.Linear(64, 36),\n",
        "            nn.ReLU(),\n",
        "            nn.Linear(36, bottleneck_dim),\n",
        "        )\n",
        "\n",
        "    def forward(self, x):\n",
        "        encoded = self.encoder(x)\n",
        "        return encoded"
      ],
      "metadata": {
        "id": "FfTg3M-8j28O"
      },
      "execution_count": null,
      "outputs": []
    },
    {
      "cell_type": "code",
      "source": [
        "class Decoder_bottleneck(nn.Module):\n",
        "    def __init__(self, bottleneck_dim):\n",
        "        super(Decoder_bottleneck, self).__init__()\n",
        "        self.decoder = nn.Sequential(\n",
        "            nn.Linear(bottleneck_dim, 36),\n",
        "            nn.ReLU(),\n",
        "            nn.Linear(36, 64),\n",
        "            nn.ReLU(),\n",
        "            nn.Linear(64, 128),\n",
        "            nn.ReLU(),\n",
        "            nn.Linear(128, 28 * 28),\n",
        "            nn.Sigmoid()\n",
        "        )\n",
        "\n",
        "    def forward(self, x):\n",
        "        decoded = self.decoder(x)\n",
        "        return decoded\n"
      ],
      "metadata": {
        "id": "LcRqKfjKj7Kv"
      },
      "execution_count": null,
      "outputs": []
    },
    {
      "cell_type": "code",
      "source": [
        "# Function to add Gaussian noise to images\n",
        "def add_noise(images, sigma):\n",
        "    noise = torch.randn_like(images) * sigma\n",
        "    noisy_images = images + noise\n",
        "    return noisy_images"
      ],
      "metadata": {
        "id": "W8RnW_rIkBrW"
      },
      "execution_count": null,
      "outputs": []
    },
    {
      "cell_type": "code",
      "source": [
        "# Function to train the model\n",
        "def train_model(encoder, decoder, criterion, optimizer, train_loader, noise_sigma):\n",
        "    encoder.train()\n",
        "    decoder.train()\n",
        "    running_loss = 0.0\n",
        "    for images, _ in train_loader:\n",
        "        images = images.view(-1, 28 * 28)  # Flatten the input images\n",
        "        noisy_images = add_noise(images, noise_sigma)\n",
        "        optimizer.zero_grad()\n",
        "        encoded = encoder(noisy_images)\n",
        "        outputs = decoder(encoded)\n",
        "        loss = criterion(outputs, images)\n",
        "        loss.backward()\n",
        "        optimizer.step()\n",
        "        running_loss += loss.item() * images.size(0)\n",
        "    return running_loss / len(train_loader.dataset)"
      ],
      "metadata": {
        "id": "62WC9P3TkEe6"
      },
      "execution_count": null,
      "outputs": []
    },
    {
      "cell_type": "code",
      "source": [
        "# Function to evaluate the model using SSIM\n",
        "def evaluate_model(encoder, decoder, test_loader):\n",
        "    encoder.eval()\n",
        "    decoder.eval()\n",
        "    ssim_scores = []\n",
        "    with torch.no_grad():\n",
        "        for images, _ in test_loader:\n",
        "            images = images.view(-1, 28 * 28)  # Flatten the input images\n",
        "            encoded = encoder(images)  # Encode original images\n",
        "            recon_images = decoder(encoded)\n",
        "            recon_images = recon_images.view(-1, 1, 28, 28)  # Reshape reconstructed images\n",
        "\n",
        "            # Ensure original and reconstructed images have the same dimensions\n",
        "            images = images.view(-1, 1, 28, 28)\n",
        "\n",
        "            for i in range(images.size(0)):\n",
        "                ssim_score = ssim(images[i].squeeze().numpy(), recon_images[i].squeeze().numpy())\n",
        "                ssim_scores.append(ssim_score)\n",
        "    return np.mean(ssim_scores)\n"
      ],
      "metadata": {
        "id": "V-YHslJUkHuv"
      },
      "execution_count": null,
      "outputs": []
    },
    {
      "cell_type": "code",
      "source": [
        "# Function to plot results\n",
        "def plot_results(x_values, y_values, xlabel, ylabel, title):\n",
        "    plt.plot(x_values, y_values, marker='o')\n",
        "    plt.xlabel(xlabel)\n",
        "    plt.ylabel(ylabel)\n",
        "    plt.title(title)\n",
        "    plt.grid(True)\n",
        "    plt.show()"
      ],
      "metadata": {
        "id": "LxVq6CEXkPbp"
      },
      "execution_count": null,
      "outputs": []
    },
    {
      "cell_type": "code",
      "source": [
        "# Parameters\n",
        "batch_size = 32\n",
        "learning_rate = 0.001\n",
        "epochs = 10\n",
        "sigma_values = [0.1, 0.5, 1.0]\n",
        "bottleneck_dims = [8, 16, 32]"
      ],
      "metadata": {
        "id": "-xzESTZ2keBy"
      },
      "execution_count": null,
      "outputs": []
    },
    {
      "cell_type": "code",
      "source": [
        "# Transformations\n",
        "transform = transforms.Compose([transforms.ToTensor()])\n",
        "\n",
        "# Load MNIST dataset\n",
        "train_dataset = datasets.MNIST(root='./data', train=True, transform=transform, download=True)\n",
        "test_dataset = datasets.MNIST(root='./data', train=False, transform=transform, download=True)\n",
        "\n",
        "# Data loaders\n",
        "train_loader = DataLoader(dataset=train_dataset, batch_size=batch_size, shuffle=True)\n",
        "test_loader = DataLoader(dataset=test_dataset, batch_size=batch_size, shuffle=False)\n"
      ],
      "metadata": {
        "id": "gm0ceuA-kvQ2"
      },
      "execution_count": null,
      "outputs": []
    },
    {
      "cell_type": "code",
      "source": [
        "# Initialize Encoder and Decoder models\n",
        "encoder = Encoder()\n",
        "decoder = Decoder()"
      ],
      "metadata": {
        "id": "cqZOwipXtRxJ"
      },
      "execution_count": null,
      "outputs": []
    },
    {
      "cell_type": "code",
      "source": [
        "# Initialize loss function and optimizer\n",
        "criterion = nn.MSELoss()\n",
        "optimizer = optim.Adam(list(encoder.parameters()) + list(decoder.parameters()), lr=learning_rate)\n",
        "\n",
        "# Initialize lists to store SSIM scores\n",
        "ssim_scores_sigma = []"
      ],
      "metadata": {
        "id": "WotDS4K1tX5h"
      },
      "execution_count": null,
      "outputs": []
    },
    {
      "cell_type": "code",
      "source": [
        "for sigma in sigma_values:\n",
        "  # Train model\n",
        "  for epoch in range(epochs):\n",
        "      train_loss = train_model(encoder, decoder, criterion, optimizer, train_loader, sigma)\n",
        "      print(f\"Epoch [{epoch+1}/{epochs}], Sigma: {sigma}, Train Loss: {train_loss:.4f}\")\n",
        "\n",
        "  # Evaluate model\n",
        "  avg_ssim_sigma = evaluate_model(encoder, decoder, test_loader)\n",
        "  ssim_scores_sigma.append(avg_ssim_sigma)\n",
        "  print(f\"Average SSIM for Sigma={sigma}: {avg_ssim_sigma:.4f}\")"
      ],
      "metadata": {
        "colab": {
          "base_uri": "https://localhost:8080/"
        },
        "id": "d7wd9fXIlY6O",
        "outputId": "bd729932-e41d-4047-ca07-7039036e57d6"
      },
      "execution_count": null,
      "outputs": [
        {
          "output_type": "stream",
          "name": "stdout",
          "text": [
            "Epoch [1/10], Sigma: 0.1, Train Loss: 0.0109\n",
            "Epoch [2/10], Sigma: 0.1, Train Loss: 0.0107\n",
            "Epoch [3/10], Sigma: 0.1, Train Loss: 0.0104\n",
            "Epoch [4/10], Sigma: 0.1, Train Loss: 0.0102\n",
            "Epoch [5/10], Sigma: 0.1, Train Loss: 0.0101\n",
            "Epoch [6/10], Sigma: 0.1, Train Loss: 0.0099\n",
            "Epoch [7/10], Sigma: 0.1, Train Loss: 0.0098\n",
            "Epoch [8/10], Sigma: 0.1, Train Loss: 0.0097\n",
            "Epoch [9/10], Sigma: 0.1, Train Loss: 0.0096\n",
            "Epoch [10/10], Sigma: 0.1, Train Loss: 0.0095\n",
            "Average SSIM for Sigma=0.1: 0.9158\n",
            "Epoch [1/10], Sigma: 0.5, Train Loss: 0.0191\n",
            "Epoch [2/10], Sigma: 0.5, Train Loss: 0.0179\n",
            "Epoch [3/10], Sigma: 0.5, Train Loss: 0.0176\n",
            "Epoch [4/10], Sigma: 0.5, Train Loss: 0.0174\n",
            "Epoch [5/10], Sigma: 0.5, Train Loss: 0.0172\n",
            "Epoch [6/10], Sigma: 0.5, Train Loss: 0.0171\n",
            "Epoch [7/10], Sigma: 0.5, Train Loss: 0.0170\n",
            "Epoch [8/10], Sigma: 0.5, Train Loss: 0.0170\n",
            "Epoch [9/10], Sigma: 0.5, Train Loss: 0.0168\n",
            "Epoch [10/10], Sigma: 0.5, Train Loss: 0.0168\n",
            "Average SSIM for Sigma=0.5: 0.8810\n",
            "Epoch [1/10], Sigma: 1.0, Train Loss: 0.0296\n",
            "Epoch [2/10], Sigma: 1.0, Train Loss: 0.0288\n",
            "Epoch [3/10], Sigma: 1.0, Train Loss: 0.0285\n",
            "Epoch [4/10], Sigma: 1.0, Train Loss: 0.0284\n",
            "Epoch [5/10], Sigma: 1.0, Train Loss: 0.0282\n",
            "Epoch [6/10], Sigma: 1.0, Train Loss: 0.0281\n",
            "Epoch [7/10], Sigma: 1.0, Train Loss: 0.0281\n",
            "Epoch [8/10], Sigma: 1.0, Train Loss: 0.0280\n",
            "Epoch [9/10], Sigma: 1.0, Train Loss: 0.0280\n",
            "Epoch [10/10], Sigma: 1.0, Train Loss: 0.0279\n",
            "Average SSIM for Sigma=1.0: 0.8034\n"
          ]
        }
      ]
    },
    {
      "cell_type": "code",
      "source": [
        "plot_results(sigma_values, ssim_scores_sigma, 'Sigma', 'Average SSIM', 'SSIM vs Sigma')"
      ],
      "metadata": {
        "colab": {
          "base_uri": "https://localhost:8080/",
          "height": 472
        },
        "id": "4YnRyN6ZlirA",
        "outputId": "6a8dcf6a-1946-417b-cb76-bc58d4edff50"
      },
      "execution_count": null,
      "outputs": [
        {
          "output_type": "display_data",
          "data": {
            "text/plain": [
              "<Figure size 640x480 with 1 Axes>"
            ],
            "image/png": "[encoded data removed]"
          },
          "metadata": {}
        }
      ]
    },
    {
      "cell_type": "markdown",
      "source": [
        "**Observations**\n",
        "\n",
        "\n",
        "*   For Sigma = 0.1: Train Loss: 0.0095, Average SSIM: 0.9158\n",
        "*   For Sigma = 0.5: Train Loss: 0.0168, Average SSIM: 0.8810\n",
        "*   For Sigma = 1.0: Train Loss: 0.0279, Average SSIM: 0.8034\n",
        "*   The SSIM metric measures the structural similarity between the two images. As the sigma value increases which indicates the higher levels of Gaussian noise, the input images become more distorted and less similar to the original clean images. As a result, the reconstructed images produced by the model also become less similar to the originals, resulting in lower SSIM scores.\n",
        "\n",
        "\n",
        "\n"
      ],
      "metadata": {
        "id": "9qPtdt9H9g3C"
      }
    },
    {
      "cell_type": "code",
      "source": [
        "ssim_scores_bottleneck = []\n",
        "\n",
        "for bottleneck_dim in bottleneck_dims:\n",
        "  # Initialize Encoder and Decoder models\n",
        "  encoder = Encoder_bottleneck(bottleneck_dim)\n",
        "  decoder = Decoder_bottleneck(bottleneck_dim)\n",
        "\n",
        "  # Initialize loss function and optimizer\n",
        "  criterion = nn.MSELoss()\n",
        "  optimizer = optim.Adam(list(encoder.parameters()) + list(decoder.parameters()), lr=learning_rate)\n",
        "\n",
        "  # Train model\n",
        "  for epoch in range(epochs):\n",
        "      train_loss = train_model(encoder, decoder, criterion, optimizer, train_loader, sigma)\n",
        "      print(f\"Epoch [{epoch+1}/{epochs}], Bottleneck Dimension: {bottleneck_dim}, Train Loss: {train_loss:.4f}\")\n",
        "\n",
        "  # Evaluate model\n",
        "  avg_ssim_bottleneck = evaluate_model(encoder, decoder, test_loader)\n",
        "  ssim_scores_bottleneck.append(avg_ssim_bottleneck)\n",
        "  print(f\"Average SSIM for Bottleneck Dimension={bottleneck_dim}: {avg_ssim_bottleneck:.4f}\")\n"
      ],
      "metadata": {
        "colab": {
          "base_uri": "https://localhost:8080/"
        },
        "id": "pMr1Gj_tls9U",
        "outputId": "085acdeb-4c17-4295-a54d-660b71f3843d"
      },
      "execution_count": null,
      "outputs": [
        {
          "output_type": "stream",
          "name": "stdout",
          "text": [
            "Epoch [1/10], Bottleneck Dimension: 8, Train Loss: 0.0560\n",
            "Epoch [2/10], Bottleneck Dimension: 8, Train Loss: 0.0407\n",
            "Epoch [3/10], Bottleneck Dimension: 8, Train Loss: 0.0375\n",
            "Epoch [4/10], Bottleneck Dimension: 8, Train Loss: 0.0360\n",
            "Epoch [5/10], Bottleneck Dimension: 8, Train Loss: 0.0352\n",
            "Epoch [6/10], Bottleneck Dimension: 8, Train Loss: 0.0344\n",
            "Epoch [7/10], Bottleneck Dimension: 8, Train Loss: 0.0339\n",
            "Epoch [8/10], Bottleneck Dimension: 8, Train Loss: 0.0334\n",
            "Epoch [9/10], Bottleneck Dimension: 8, Train Loss: 0.0331\n",
            "Epoch [10/10], Bottleneck Dimension: 8, Train Loss: 0.0328\n",
            "Average SSIM for Bottleneck Dimension=8: 0.7213\n",
            "Epoch [1/10], Bottleneck Dimension: 16, Train Loss: 0.0547\n",
            "Epoch [2/10], Bottleneck Dimension: 16, Train Loss: 0.0405\n",
            "Epoch [3/10], Bottleneck Dimension: 16, Train Loss: 0.0378\n",
            "Epoch [4/10], Bottleneck Dimension: 16, Train Loss: 0.0363\n",
            "Epoch [5/10], Bottleneck Dimension: 16, Train Loss: 0.0351\n",
            "Epoch [6/10], Bottleneck Dimension: 16, Train Loss: 0.0343\n",
            "Epoch [7/10], Bottleneck Dimension: 16, Train Loss: 0.0337\n",
            "Epoch [8/10], Bottleneck Dimension: 16, Train Loss: 0.0331\n",
            "Epoch [9/10], Bottleneck Dimension: 16, Train Loss: 0.0326\n",
            "Epoch [10/10], Bottleneck Dimension: 16, Train Loss: 0.0322\n",
            "Average SSIM for Bottleneck Dimension=16: 0.7227\n",
            "Epoch [1/10], Bottleneck Dimension: 32, Train Loss: 0.0551\n",
            "Epoch [2/10], Bottleneck Dimension: 32, Train Loss: 0.0396\n",
            "Epoch [3/10], Bottleneck Dimension: 32, Train Loss: 0.0364\n",
            "Epoch [4/10], Bottleneck Dimension: 32, Train Loss: 0.0347\n",
            "Epoch [5/10], Bottleneck Dimension: 32, Train Loss: 0.0336\n",
            "Epoch [6/10], Bottleneck Dimension: 32, Train Loss: 0.0328\n",
            "Epoch [7/10], Bottleneck Dimension: 32, Train Loss: 0.0322\n",
            "Epoch [8/10], Bottleneck Dimension: 32, Train Loss: 0.0316\n",
            "Epoch [9/10], Bottleneck Dimension: 32, Train Loss: 0.0311\n",
            "Epoch [10/10], Bottleneck Dimension: 32, Train Loss: 0.0307\n",
            "Average SSIM for Bottleneck Dimension=32: 0.7506\n"
          ]
        }
      ]
    },
    {
      "cell_type": "code",
      "source": [
        "# Plot results\n",
        "plot_results(bottleneck_dims, ssim_scores_bottleneck, 'Bottleneck Dimension', 'Average SSIM', 'SSIM vs Bottleneck Dimension')"
      ],
      "metadata": {
        "colab": {
          "base_uri": "https://localhost:8080/",
          "height": 472
        },
        "id": "1DsC80_gl5qm",
        "outputId": "c0d466d9-57e2-4ada-8a44-fc273ca05f9d"
      },
      "execution_count": null,
      "outputs": [
        {
          "output_type": "display_data",
          "data": {
            "text/plain": [
              "<Figure size 640x480 with 1 Axes>"
            ],
            "image/png": "[encoded data removed]"
          },
          "metadata": {}
        }
      ]
    },
    {
      "cell_type": "markdown",
      "source": [
        "**Observations:**\n",
        "\n",
        "\n",
        "\n",
        "*   For bottleneck dim = 8: Train Loss: 0.0328, Average SSIM: 0.7213\n",
        "*   For bottleneck dim = 16: Train Loss: 0.0322, Average SSIM: 0.7227\n",
        "*   For bottleneck dim = 32: Train Loss: 0.0307, Average SSIM: 0.7506\n",
        "*   The bottleneck dimension affects the capacity of the model to capture and represent the essential features of the input data. As the bottleneck dimension increases, the model becomes more capable of reconstructing the input data accurately. Thus it can be we observed that the average SSIM score increases with increasing bottleneck dimension. This indicates that the reconstructed images become more similar to the original images as the bottleneck dimension increases.\n",
        "\n",
        "\n",
        "\n"
      ],
      "metadata": {
        "id": "0qcDbxH7_JBO"
      }
    }
  ]
}