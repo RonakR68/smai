{
  "metadata": {
    "kernelspec": {
      "language": "python",
      "display_name": "Python 3",
      "name": "python3"
    },
    "language_info": {
      "name": "python",
      "version": "3.10.13",
      "mimetype": "text/x-python",
      "codemirror_mode": {
        "name": "ipython",
        "version": 3
      },
      "pygments_lexer": "ipython3",
      "nbconvert_exporter": "python",
      "file_extension": ".py"
    },
    "kaggle": {
      "accelerator": "gpu",
      "dataSources": [
        {
          "sourceId": 74586,
          "databundleVersionId": 8130765,
          "sourceType": "competition"
        }
      ],
      "isInternetEnabled": true,
      "language": "python",
      "sourceType": "notebook",
      "isGpuEnabled": true
    },
    "colab": {
      "provenance": []
    }
  },
  "nbformat_minor": 0,
  "nbformat": 4,
  "cells": [
    {
      "cell_type": "code",
      "source": [
        "################ Code Description ##################\n",
        "\n",
        "# The below code for age prediciton performs the following tasks:\n",
        "# Defines a custom dataset (AgeDataset) for loading images and their corresponding ages.\n",
        "# Performs data augmentation using transforms for train data.\n",
        "# Sets paths for the training and testing data.\n",
        "# Splits the training data into training and validation sets.\n",
        "# Creates datasets for training, validation and testing.\n",
        "# Creates data loaders for training, validation, and testing.\n",
        "# Loads a pre-trained ResNet18-based model (ResNetAgePredictor) for age prediction.\n",
        "# Defines loss criterion (MAE) and Adam Optimizer with weigh decay.\n",
        "# Defines an EarlyStopping class for stopping early during training.\n",
        "# Trains and validates the model with early stopping.\n",
        "# Saves the best model.\n",
        "# Uses the saved model from validation to make predictions on the test dataset.\n",
        "# Creates a submission CSV file with the predicted ages."
      ],
      "metadata": {
        "_uuid": "8f2839f25d086af736a60e9eeb907d3b93b6e0e5",
        "_cell_guid": "b1076dfc-b9ad-4769-8c92-a6c4dae69d19",
        "execution": {
          "iopub.status.busy": "2024-04-22T17:44:15.131492Z",
          "iopub.execute_input": "2024-04-22T17:44:15.131784Z",
          "iopub.status.idle": "2024-04-22T17:44:21.834144Z",
          "shell.execute_reply.started": "2024-04-22T17:44:15.131759Z",
          "shell.execute_reply": "2024-04-22T17:44:21.833336Z"
        },
        "trusted": true,
        "id": "HbpvZXrMe-GP"
      },
      "execution_count": null,
      "outputs": []
    },
    {
      "cell_type": "code",
      "source": [
        "import numpy as np\n",
        "import pandas as pd\n",
        "from glob import glob\n",
        "from os.path import join\n",
        "from pathlib import Path\n",
        "from PIL import Image\n",
        "import matplotlib.pyplot as plt\n",
        "from tqdm import tqdm\n",
        "\n",
        "import torch\n",
        "import torch.nn as nn\n",
        "import torchvision\n",
        "from torchvision.transforms import Compose, Resize, CenterCrop, ToTensor, Normalize, RandomHorizontalFlip, RandomRotation, ColorJitter\n",
        "import torch.optim as optim\n",
        "from torchvision import models\n",
        "from torch.utils.data import DataLoader, random_split\n",
        "\n"
      ],
      "metadata": {
        "execution": {
          "iopub.status.busy": "2024-04-23T14:13:43.521647Z",
          "iopub.execute_input": "2024-04-23T14:13:43.522440Z",
          "iopub.status.idle": "2024-04-23T14:13:50.709656Z",
          "shell.execute_reply.started": "2024-04-23T14:13:43.522409Z",
          "shell.execute_reply": "2024-04-23T14:13:50.708701Z"
        },
        "trusted": true,
        "id": "bep1OZqbe-GQ"
      },
      "execution_count": null,
      "outputs": []
    },
    {
      "cell_type": "code",
      "source": [
        "class AgeDataset(torch.utils.data.Dataset):\n",
        "    def __init__(self, data_path, annot_path, train=True):\n",
        "        super(AgeDataset, self).__init__()\n",
        "\n",
        "        self.annot_path = annot_path\n",
        "        self.data_path = data_path\n",
        "        self.train = train\n",
        "\n",
        "        self.ann = pd.read_csv(annot_path)\n",
        "        self.files = self.ann['file_id']\n",
        "        if train:\n",
        "            self.ages = self.ann['age']\n",
        "        self.transform = self._transform(224, train=train)\n",
        "\n",
        "    @staticmethod\n",
        "    def _convert_image_to_rgb(image):\n",
        "        return image.convert(\"RGB\")\n",
        "\n",
        "    def _transform(self, n_px, train=True):\n",
        "        mean = [0.485, 0.456, 0.406]\n",
        "        std = [0.229, 0.224, 0.225]\n",
        "\n",
        "        if train:\n",
        "            # Augmentation only for training data\n",
        "            return Compose([\n",
        "                Resize(n_px),\n",
        "                RandomHorizontalFlip(p=0.5),\n",
        "                RandomRotation(15),\n",
        "                ColorJitter(brightness=0.1, contrast=0.1, saturation=0.1, hue=0.1),\n",
        "                self._convert_image_to_rgb,\n",
        "                ToTensor(),\n",
        "                Normalize(mean, std),\n",
        "            ])\n",
        "        else:\n",
        "            # No augmentation for validation/test data\n",
        "            return Compose([\n",
        "                Resize(n_px),\n",
        "                self._convert_image_to_rgb,\n",
        "                ToTensor(),\n",
        "                Normalize(mean, std),\n",
        "            ])\n",
        "\n",
        "    def read_img(self, file_name):\n",
        "        im_path = join(self.data_path, file_name)\n",
        "        img = Image.open(im_path)\n",
        "        img = self.transform(img)\n",
        "        return img\n",
        "\n",
        "    def __getitem__(self, index):\n",
        "        file_name = self.files[index]\n",
        "        img = self.read_img(file_name)\n",
        "        if self.train:\n",
        "            age = self.ages[index]\n",
        "            return img, age\n",
        "        else:\n",
        "            return img\n",
        "\n",
        "    def __len__(self):\n",
        "        return len(self.files)\n",
        "\n",
        "\n"
      ],
      "metadata": {
        "execution": {
          "iopub.status.busy": "2024-04-23T14:13:54.013766Z",
          "iopub.execute_input": "2024-04-23T14:13:54.014305Z",
          "iopub.status.idle": "2024-04-23T14:13:54.027082Z",
          "shell.execute_reply.started": "2024-04-23T14:13:54.014272Z",
          "shell.execute_reply": "2024-04-23T14:13:54.025882Z"
        },
        "trusted": true,
        "id": "2LtxOyiRe-GQ"
      },
      "execution_count": null,
      "outputs": []
    },
    {
      "cell_type": "code",
      "source": [
        "#define paths for datasets and create train,validation and test datasets.\n",
        "\n",
        "train_path = '/kaggle/input/smai-24-age-prediction/content/faces_dataset/train'\n",
        "train_ann = '/kaggle/input/smai-24-age-prediction/content/faces_dataset/train.csv'\n",
        "train_dataset = AgeDataset(train_path, train_ann, train=True)\n",
        "\n",
        "\n",
        "test_path = '/kaggle/input/smai-24-age-prediction/content/faces_dataset/test'\n",
        "test_ann = '/kaggle/input/smai-24-age-prediction/content/faces_dataset/submission.csv'\n",
        "test_dataset = AgeDataset(test_path, test_ann, train=False)\n",
        "\n",
        "# Split training data into training and validation sets\n",
        "num_train = len(train_dataset)\n",
        "num_val = int(0.2 * num_train)\n",
        "train_dataset, val_dataset = random_split(train_dataset, [num_train - num_val, num_val])\n",
        "\n",
        "# Create data loaders\n",
        "train_loader = DataLoader(train_dataset, batch_size=64, shuffle=True)\n",
        "val_loader = DataLoader(val_dataset, batch_size=64, shuffle=False)\n",
        "test_loader = DataLoader(test_dataset, batch_size=64, shuffle=False)\n",
        "\n",
        "# Define the device to use GPU if available\n",
        "device = torch.device('cuda' if torch.cuda.is_available() else 'cpu')\n",
        "\n"
      ],
      "metadata": {
        "execution": {
          "iopub.status.busy": "2024-04-23T14:13:58.706747Z",
          "iopub.execute_input": "2024-04-23T14:13:58.707121Z",
          "iopub.status.idle": "2024-04-23T14:13:58.791868Z",
          "shell.execute_reply.started": "2024-04-23T14:13:58.707091Z",
          "shell.execute_reply": "2024-04-23T14:13:58.790854Z"
        },
        "trusted": true,
        "id": "zOioTQ1te-GQ"
      },
      "execution_count": null,
      "outputs": []
    },
    {
      "cell_type": "code",
      "source": [
        "# ResNet Model for Age Prediction Task\n",
        "\n",
        "class ResNetAgePredictor(nn.Module):\n",
        "    def __init__(self, pretrained=True):\n",
        "        super(ResNetAgePredictor, self).__init__()\n",
        "        # Load a pre-trained ResNet-18 model\n",
        "        self.model = models.resnet18(pretrained=pretrained)\n",
        "        num_features = self.model.fc.in_features  # Get the number of inputs for the fully connected layer\n",
        "\n",
        "        # Replace the fully connected layer with a new one with a single output\n",
        "        self.model.fc = nn.Linear(num_features, 1)\n",
        "\n",
        "    def forward(self, x):\n",
        "        return self.model(x)\n",
        "\n"
      ],
      "metadata": {
        "execution": {
          "iopub.status.busy": "2024-04-23T14:14:02.751755Z",
          "iopub.execute_input": "2024-04-23T14:14:02.752142Z",
          "iopub.status.idle": "2024-04-23T14:14:02.758961Z",
          "shell.execute_reply.started": "2024-04-23T14:14:02.752110Z",
          "shell.execute_reply": "2024-04-23T14:14:02.758022Z"
        },
        "trusted": true,
        "id": "1d4eqNpZe-GR"
      },
      "execution_count": null,
      "outputs": []
    },
    {
      "cell_type": "code",
      "source": [
        "# Define EarlyStopping class\n",
        "\n",
        "class EarlyStopping:\n",
        "    def __init__(self, patience=5, verbose=False, delta=0, path='checkpoint.pth', trace_func=print):\n",
        "        \"\"\"\n",
        "        Args:\n",
        "            patience (int): How long to wait after last time validation loss improved.\n",
        "                            Default: 5\n",
        "            verbose (bool): If True, prints a message for each validation loss improvement.\n",
        "                            Default: False\n",
        "            delta (float): Minimum change in the monitored quantity to qualify as an improvement.\n",
        "                            Default: 0\n",
        "            path (str): Path for the checkpoint to be saved to.\n",
        "                            Default: 'checkpoint.pth'\n",
        "            trace_func (function): trace print function.\n",
        "                            Default: print\n",
        "        \"\"\"\n",
        "        self.patience = patience\n",
        "        self.verbose = verbose\n",
        "        self.counter = 0\n",
        "        self.best_score = None\n",
        "        self.early_stop = False\n",
        "        self.val_loss_min = np.Inf\n",
        "        self.delta = delta\n",
        "        self.path = path\n",
        "        self.trace_func = trace_func\n",
        "\n",
        "    def __call__(self, val_loss, model):\n",
        "        score = -val_loss\n",
        "\n",
        "        if self.best_score is None:\n",
        "            self.best_score = score\n",
        "            self.save_checkpoint(val_loss, model)\n",
        "        elif score < self.best_score + self.delta:\n",
        "            self.counter += 1\n",
        "            self.trace_func(f'EarlyStopping counter: {self.counter} out of {self.patience}')\n",
        "            if self.counter >= self.patience:\n",
        "                self.early_stop = True\n",
        "        else:\n",
        "            self.best_score = score\n",
        "            self.save_checkpoint(val_loss, model)\n",
        "            self.counter = 0\n",
        "\n",
        "    def save_checkpoint(self, val_loss, model):\n",
        "        '''Saves model when validation loss decrease.'''\n",
        "        if self.verbose:\n",
        "            self.trace_func(f'Validation loss decreased ({self.val_loss_min:.6f} --> {val_loss:.6f}).  Saving model ...')\n",
        "        torch.save(model.state_dict(), self.path)\n",
        "        self.val_loss_min = val_loss\n",
        "\n",
        "\n"
      ],
      "metadata": {
        "execution": {
          "iopub.status.busy": "2024-04-23T14:14:06.961448Z",
          "iopub.execute_input": "2024-04-23T14:14:06.961807Z",
          "iopub.status.idle": "2024-04-23T14:14:06.972800Z",
          "shell.execute_reply.started": "2024-04-23T14:14:06.961778Z",
          "shell.execute_reply": "2024-04-23T14:14:06.971708Z"
        },
        "trusted": true,
        "id": "7A1MoJmhe-GR"
      },
      "execution_count": null,
      "outputs": []
    },
    {
      "cell_type": "code",
      "source": [
        "# Initialize model, optimizer and loss function\n",
        "model = ResNetAgePredictor().to(device)\n",
        "optimizer = torch.optim.Adam(model.parameters(), lr=1e-4, weight_decay=1e-6)\n",
        "criterion = nn.L1Loss()  # MAE\n",
        "num_epochs = 30 # number of epochs for training\n",
        "\n"
      ],
      "metadata": {
        "execution": {
          "iopub.status.busy": "2024-04-23T14:14:10.906990Z",
          "iopub.execute_input": "2024-04-23T14:14:10.907374Z",
          "iopub.status.idle": "2024-04-23T14:14:11.832680Z",
          "shell.execute_reply.started": "2024-04-23T14:14:10.907342Z",
          "shell.execute_reply": "2024-04-23T14:14:11.831733Z"
        },
        "trusted": true,
        "id": "-pJNkscEe-GR",
        "outputId": "9aefd92d-997b-4313-a569-834ed0db428d"
      },
      "execution_count": null,
      "outputs": [
        {
          "name": "stderr",
          "text": "/opt/conda/lib/python3.10/site-packages/torchvision/models/_utils.py:208: UserWarning: The parameter 'pretrained' is deprecated since 0.13 and may be removed in the future, please use 'weights' instead.\n  warnings.warn(\n/opt/conda/lib/python3.10/site-packages/torchvision/models/_utils.py:223: UserWarning: Arguments other than a weight enum or `None` for 'weights' are deprecated since 0.13 and may be removed in the future. The current behavior is equivalent to passing `weights=ResNet18_Weights.IMAGENET1K_V1`. You can also use `weights=ResNet18_Weights.DEFAULT` to get the most up-to-date weights.\n  warnings.warn(msg)\nDownloading: \"https://download.pytorch.org/models/resnet18-f37072fd.pth\" to /root/.cache/torch/hub/checkpoints/resnet18-f37072fd.pth\n100%|██████████| 44.7M/44.7M [00:00<00:00, 133MB/s] \n",
          "output_type": "stream"
        }
      ]
    },
    {
      "cell_type": "code",
      "source": [
        "# Training Function\n",
        "def train_and_evaluate(model, train_loader, val_loader, optimizer, criterion, num_epochs, early_stopping=None):\n",
        "    for epoch in range(num_epochs):\n",
        "        model.train()\n",
        "        total_loss = 0.0\n",
        "        for inputs, ages in train_loader:\n",
        "            inputs, ages = inputs.to(device), ages.to(device)\n",
        "            optimizer.zero_grad()\n",
        "            outputs = model(inputs)\n",
        "            loss = criterion(outputs, ages.float().unsqueeze(1))\n",
        "            loss.backward()\n",
        "            optimizer.step()\n",
        "            total_loss += loss.item()\n",
        "\n",
        "        val_loss = 0.0\n",
        "        model.eval()\n",
        "        with torch.no_grad():\n",
        "            for inputs, ages in val_loader:\n",
        "                inputs, ages = inputs.to(device), ages.to(device)\n",
        "                outputs = model(inputs)\n",
        "                rounded_outputs = torch.round(outputs)\n",
        "                loss = criterion(rounded_outputs, ages.float().unsqueeze(1))\n",
        "                val_loss += loss.item()\n",
        "\n",
        "        avg_train_loss = total_loss / len(train_loader)\n",
        "        avg_val_loss = val_loss / len(val_loader)\n",
        "        print(f'Epoch {epoch+1}: Train Loss: {avg_train_loss:.4f}, Val Loss: {avg_val_loss:.4f}')\n",
        "\n",
        "        if early_stopping:\n",
        "            early_stopping(avg_val_loss, model)\n",
        "            if early_stopping.early_stop:\n",
        "                print(\"Early stopping\")\n",
        "                break\n",
        "\n"
      ],
      "metadata": {
        "execution": {
          "iopub.status.busy": "2024-04-23T14:14:15.169578Z",
          "iopub.execute_input": "2024-04-23T14:14:15.170235Z",
          "iopub.status.idle": "2024-04-23T14:14:15.179779Z",
          "shell.execute_reply.started": "2024-04-23T14:14:15.170202Z",
          "shell.execute_reply": "2024-04-23T14:14:15.178794Z"
        },
        "trusted": true,
        "id": "ixaKLYAze-GR"
      },
      "execution_count": null,
      "outputs": []
    },
    {
      "cell_type": "code",
      "source": [
        "# Initialize EarlyStopping\n",
        "early_stopping = EarlyStopping(patience=6, verbose=True, path='best_model.pth')\n",
        "\n",
        "# Call the train function with early stopping\n",
        "train_and_evaluate(model, train_loader, val_loader, optimizer, criterion, num_epochs, early_stopping)\n",
        "\n",
        "# Load the best saved model\n",
        "model.load_state_dict(torch.load('best_model.pth'))\n",
        "\n",
        "# Save model\n",
        "torch.save(model.state_dict(), 'age_prediction_resnet18_final.pth')\n",
        "\n"
      ],
      "metadata": {
        "execution": {
          "iopub.status.busy": "2024-04-23T14:14:19.668424Z",
          "iopub.execute_input": "2024-04-23T14:14:19.668822Z",
          "iopub.status.idle": "2024-04-23T15:26:59.188359Z",
          "shell.execute_reply.started": "2024-04-23T14:14:19.668789Z",
          "shell.execute_reply": "2024-04-23T15:26:59.187395Z"
        },
        "trusted": true,
        "id": "BlLl4ze_e-GR",
        "outputId": "f91dbb2d-2418-4d05-b4e4-60d8ce4c7bad"
      },
      "execution_count": null,
      "outputs": [
        {
          "name": "stdout",
          "text": "Epoch 1: Train Loss: 21.3804, Val Loss: 13.2454\nValidation loss decreased (inf --> 13.245442).  Saving model ...\nEpoch 2: Train Loss: 9.3542, Val Loss: 6.8581\nValidation loss decreased (13.245442 --> 6.858061).  Saving model ...\nEpoch 3: Train Loss: 5.8966, Val Loss: 5.5097\nValidation loss decreased (6.858061 --> 5.509710).  Saving model ...\nEpoch 4: Train Loss: 5.3805, Val Loss: 5.5974\nEarlyStopping counter: 1 out of 5\nEpoch 5: Train Loss: 5.1285, Val Loss: 5.8407\nEarlyStopping counter: 2 out of 5\nEpoch 6: Train Loss: 4.9864, Val Loss: 5.0883\nValidation loss decreased (5.509710 --> 5.088280).  Saving model ...\nEpoch 7: Train Loss: 4.7874, Val Loss: 4.9715\nValidation loss decreased (5.088280 --> 4.971464).  Saving model ...\nEpoch 8: Train Loss: 4.7901, Val Loss: 5.0844\nEarlyStopping counter: 1 out of 5\nEpoch 9: Train Loss: 4.6209, Val Loss: 4.9231\nValidation loss decreased (4.971464 --> 4.923147).  Saving model ...\nEpoch 10: Train Loss: 4.4666, Val Loss: 4.8694\nValidation loss decreased (4.923147 --> 4.869403).  Saving model ...\nEpoch 11: Train Loss: 4.3687, Val Loss: 5.1142\nEarlyStopping counter: 1 out of 5\nEpoch 12: Train Loss: 4.2483, Val Loss: 4.7928\nValidation loss decreased (4.869403 --> 4.792826).  Saving model ...\nEpoch 13: Train Loss: 4.1447, Val Loss: 4.9301\nEarlyStopping counter: 1 out of 5\nEpoch 14: Train Loss: 4.0572, Val Loss: 5.3919\nEarlyStopping counter: 2 out of 5\nEpoch 15: Train Loss: 3.9908, Val Loss: 4.7787\nValidation loss decreased (4.792826 --> 4.778706).  Saving model ...\nEpoch 16: Train Loss: 3.9361, Val Loss: 4.8493\nEarlyStopping counter: 1 out of 5\nEpoch 17: Train Loss: 3.8057, Val Loss: 4.8043\nEarlyStopping counter: 2 out of 5\nEpoch 18: Train Loss: 3.7833, Val Loss: 5.2838\nEarlyStopping counter: 3 out of 5\nEpoch 19: Train Loss: 3.6728, Val Loss: 5.3390\nEarlyStopping counter: 4 out of 5\nEpoch 20: Train Loss: 3.6256, Val Loss: 4.7987\nEarlyStopping counter: 5 out of 5\nEarly stopping\n",
          "output_type": "stream"
        }
      ]
    },
    {
      "cell_type": "code",
      "source": [
        "###### SUBMISSION CSV FILE #####\n",
        "\n",
        "@torch.no_grad\n",
        "def predict(loader, model):\n",
        "    model.eval()\n",
        "    predictions = []\n",
        "\n",
        "    for img in tqdm(loader):\n",
        "        img = img.to(device)\n",
        "\n",
        "        pred = model(img)\n",
        "        predictions.extend(pred.flatten().round().int().detach().cpu().numpy())\n",
        "\n",
        "    return predictions\n",
        "\n",
        "preds = predict(test_loader, model)\n",
        "\n",
        "submit = pd.read_csv('/kaggle/input/smai-24-age-prediction/content/faces_dataset/submission.csv')\n",
        "submit['age'] = preds\n",
        "submit.head()\n",
        "\n",
        "submit.to_csv('baseline.csv',index=False)"
      ],
      "metadata": {
        "execution": {
          "iopub.status.busy": "2024-04-23T15:28:23.357876Z",
          "iopub.execute_input": "2024-04-23T15:28:23.358538Z",
          "iopub.status.idle": "2024-04-23T15:28:37.662793Z",
          "shell.execute_reply.started": "2024-04-23T15:28:23.358506Z",
          "shell.execute_reply": "2024-04-23T15:28:37.661867Z"
        },
        "trusted": true,
        "id": "A5QJjtYVe-GS",
        "outputId": "c243e9f3-8dfa-47ed-df1d-e8ee22c18a61"
      },
      "execution_count": null,
      "outputs": [
        {
          "name": "stderr",
          "text": "100%|██████████| 31/31 [00:14<00:00,  2.17it/s]\n",
          "output_type": "stream"
        }
      ]
    }
  ]
}